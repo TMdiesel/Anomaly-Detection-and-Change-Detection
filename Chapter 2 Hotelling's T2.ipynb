{
 "cells": [
  {
   "cell_type": "code",
   "execution_count": 1,
   "metadata": {},
   "outputs": [],
   "source": [
    "import numpy as np\n",
    "import matplotlib.pyplot as plt\n",
    "%matplotlib inline"
   ]
  },
  {
   "cell_type": "code",
   "execution_count": 2,
   "metadata": {},
   "outputs": [],
   "source": [
    "M=3 #dimension\n",
    "N=10000 #number of data\n",
    "mean = np.array([3,4, 5])\n",
    "cov = np.array([ [4, -1.2,0.3], [-1.2, 1,0.3], [0.3,0.3,3] ])\n",
    "data = np.random.multivariate_normal(mean, cov, size=N)"
   ]
  },
  {
   "cell_type": "code",
   "execution_count": 5,
   "metadata": {},
   "outputs": [
    {
     "data": {
      "image/png": "[encoded data removed]",
      "text/plain": [
       "<Figure size 432x288 with 1 Axes>"
      ]
     },
     "metadata": {
      "needs_background": "light"
     },
     "output_type": "display_data"
    }
   ],
   "source": [
    "from scipy import stats\n",
    "import math\n",
    "from matplotlib import rc\n",
    "hist=[]\n",
    "mean_ob=np.mean(data,axis=0)\n",
    "cov_ob=np.cov(data.T)\n",
    "for i in range(N):\n",
    "    hist.append((data[i]-mean_ob)@np.linalg.inv(cov_ob)@(data[i]-mean_ob).T) \n",
    "plt.hist(hist,bins=100,normed=True,label='data');\n",
    "x1 = np.arange(0,10,0.01)\n",
    "y1 = stats.chi2.pdf(x=x1, df=M)\n",
    "plt.plot(x1,y1,label=r'$\\chi ^2$')\n",
    "plt.legend();"
   ]
  },
  {
   "cell_type": "code",
   "execution_count": 4,
   "metadata": {},
   "outputs": [
    {
     "name": "stdout",
     "output_type": "stream",
     "text": [
      "anomaly\n",
      "not anomaly\n"
     ]
    }
   ],
   "source": [
    "alpha=0.05 #false alarm rate\n",
    "threshold=stats.chi2.ppf(1-alpha, df=M)\n",
    "def judge(x):\n",
    "    if (x-mean_ob)@np.linalg.inv(cov_ob)@(x-mean_ob).T>threshold:\n",
    "        print('anomaly')\n",
    "    else:\n",
    "        print('not anomaly')\n",
    "judge([0,0,0])\n",
    "judge([3,4,5])"
   ]
  },
  {
   "cell_type": "code",
   "execution_count": null,
   "metadata": {},
   "outputs": [],
   "source": []
  },
  {
   "cell_type": "code",
   "execution_count": null,
   "metadata": {},
   "outputs": [],
   "source": []
  },
  {
   "cell_type": "code",
   "execution_count": null,
   "metadata": {},
   "outputs": [],
   "source": []
  }
 ],
 "metadata": {
  "kernelspec": {
   "display_name": "Python 3",
   "language": "python",
   "name": "python3"
  },
  "language_info": {
   "codemirror_mode": {
    "name": "ipython",
    "version": 3
   },
   "file_extension": ".py",
   "mimetype": "text/x-python",
   "name": "python",
   "nbconvert_exporter": "python",
   "pygments_lexer": "ipython3",
   "version": "3.7.1"
  }
 },
 "nbformat": 4,
 "nbformat_minor": 2
}
