{
 "cells": [
  {
   "cell_type": "code",
   "execution_count": 1,
   "metadata": {},
   "outputs": [],
   "source": [
    "import numpy as np\n",
    "import matplotlib.pyplot as plt\n",
    "%matplotlib inline"
   ]
  },
  {
   "cell_type": "markdown",
   "metadata": {},
   "source": [
    "## Generating the data"
   ]
  },
  {
   "cell_type": "code",
   "execution_count": 12,
   "metadata": {},
   "outputs": [
    {
     "data": {
      "image/png": "[encoded data removed]",
      "text/plain": [
       "<Figure size 432x288 with 1 Axes>"
      ]
     },
     "metadata": {
      "needs_background": "light"
     },
     "output_type": "display_data"
    }
   ],
   "source": [
    "center=[[1,1],[-0.2,-0.2]]\n",
    "data_size_0,data_size_1=100,5\n",
    "data=[c+np.random.randn(data_size,2)*0.5 for data_size,c in zip([data_size_0,data_size_1],center) ]\n",
    "data=np.concatenate(data)\n",
    "label = np.array([0 if i<data_size_0 else 1 for i in range(data_size_0+data_size_1)])\n",
    "markers = ('s', 'x', 'o', '^', 'v')\n",
    "colors = ('red', 'blue', 'lightgreen', 'gray', 'cyan')\n",
    "for i in range(2):\n",
    "    plt.scatter(data[:,0][label==i],data[:,1][label==i],alpha=0.8,label=i,edgecolor='black',c=colors[i],marker=markers[i])\n",
    "plt.legend();"
   ]
  },
  {
   "cell_type": "markdown",
   "metadata": {},
   "source": [
    "## Train"
   ]
  },
  {
   "cell_type": "code",
   "execution_count": 15,
   "metadata": {},
   "outputs": [],
   "source": [
    "from sklearn.metrics import f1_score\n",
    "import warnings\n",
    "warnings.simplefilter('ignore')\n",
    "class kNearestNeighbors:\n",
    "    def __init__(self,k,a_th,data_size_0,data_size_1):\n",
    "        self.k=k\n",
    "        self.a_th=a_th\n",
    "        self.data_size_0=data_size_0\n",
    "        self.data_size_1=data_size_1\n",
    "        self.pi0=data_size_0/(data_size_0+data_size_1)\n",
    "        self.pi1=data_size_1/(data_size_0+data_size_1)\n",
    "    def distance(self,x,y):\n",
    "        return ((x-y)**2).sum()\n",
    "    def calc_F(self,data,label):\n",
    "        self.anomaly_score=np.zeros(len(data))\n",
    "        for i in range(len(data)):\n",
    "            dist=np.array([ self.distance(data[i],data[j]) for j in range(len(data))])\n",
    "            dist_sorted_index=np.argsort(dist)[1:self.k+1]\n",
    "            n1=(label[dist_sorted_index]==1).sum()  #number of 1\n",
    "            n0=(label[dist_sorted_index]==0).sum()  #number of 0\n",
    "            self.anomaly_score[i]=np.log((self.pi0*n1)/(self.pi1*n0))\n",
    "        label_pred=self.anomaly_score>self.a_th\n",
    "        self.label_pred=label_pred\n",
    "        return f1_score(label,label_pred)"
   ]
  },
  {
   "cell_type": "code",
   "execution_count": 16,
   "metadata": {},
   "outputs": [
    {
     "data": {
      "text/plain": [
       "[3, 3, 0.7499999999999999]"
      ]
     },
     "execution_count": 16,
     "metadata": {},
     "output_type": "execute_result"
    }
   ],
   "source": [
    "#Grid Search\n",
    "k_list=list(range(1,11,1))\n",
    "a_th_list=list(range(1,11,1))\n",
    "def search_best_model(k_list,a_th_list):\n",
    "    value_holder=[0,0,0.0]\n",
    "    for k in k_list:\n",
    "        for a_th in a_th_list:\n",
    "            knn=kNearestNeighbors(k,a_th,data_size_0,data_size_1)\n",
    "            f1_score=knn.calc_F(data,label)\n",
    "            if f1_score>value_holder[2]:\n",
    "                value_holder=[k,a_th,f1_score]\n",
    "    return value_holder\n",
    "search_best_model(k_list,a_th_list)"
   ]
  },
  {
   "cell_type": "code",
   "execution_count": null,
   "metadata": {},
   "outputs": [],
   "source": []
  }
 ],
 "metadata": {
  "kernelspec": {
   "display_name": "Python 3",
   "language": "python",
   "name": "python3"
  },
  "language_info": {
   "codemirror_mode": {
    "name": "ipython",
    "version": 3
   },
   "file_extension": ".py",
   "mimetype": "text/x-python",
   "name": "python",
   "nbconvert_exporter": "python",
   "pygments_lexer": "ipython3",
   "version": "3.7.1"
  }
 },
 "nbformat": 4,
 "nbformat_minor": 2
}
